{
  "nbformat": 4,
  "nbformat_minor": 0,
  "metadata": {
    "colab": {
      "name": "demo-csv-pickle-jsonl.ipynb",
      "version": "0.3.2",
      "provenance": [],
      "collapsed_sections": [],
      "include_colab_link": true
    },
    "kernelspec": {
      "name": "python3",
      "display_name": "Python 3"
    }
  },
  "cells": [
    {
      "cell_type": "markdown",
      "metadata": {
        "id": "view-in-github",
        "colab_type": "text"
      },
      "source": [
        "<a href=\"https://colab.research.google.com/github/wshuyi/demo-csv-pickle-jsonl/blob/master/demo_csv_pickle_jsonl.ipynb\" target=\"_parent\"><img src=\"https://colab.research.google.com/assets/colab-badge.svg\" alt=\"Open In Colab\"/></a>"
      ]
    },
    {
      "cell_type": "code",
      "metadata": {
        "id": "AZEnbWFUODn7",
        "colab_type": "code",
        "colab": {}
      },
      "source": [
        "str1 = \"这是个好电影，\\n我喜欢！\"\n",
        "str2 = \"这部剧的\\t第八季\\t糟透了！\""
      ],
      "execution_count": 0,
      "outputs": []
    },
    {
      "cell_type": "code",
      "metadata": {
        "id": "oJywwdPnOPUG",
        "colab_type": "code",
        "colab": {}
      },
      "source": [
        "print(str1)"
      ],
      "execution_count": 0,
      "outputs": []
    },
    {
      "cell_type": "code",
      "metadata": {
        "id": "7245goBlOP9f",
        "colab_type": "code",
        "colab": {}
      },
      "source": [
        "print(str2)"
      ],
      "execution_count": 0,
      "outputs": []
    },
    {
      "cell_type": "code",
      "metadata": {
        "colab_type": "code",
        "id": "1S1kQkI4OWPC",
        "colab": {}
      },
      "source": [
        "import pandas as pd"
      ],
      "execution_count": 0,
      "outputs": []
    },
    {
      "cell_type": "code",
      "metadata": {
        "colab_type": "code",
        "id": "OFbT9oyrOWPE",
        "colab": {}
      },
      "source": [
        "df = pd.DataFrame({'text': [str1, str2], 'label': [1, 0]})\n",
        "df"
      ],
      "execution_count": 0,
      "outputs": []
    },
    {
      "cell_type": "code",
      "metadata": {
        "colab_type": "code",
        "id": "weQO04jnOWPH",
        "colab": {}
      },
      "source": [
        "df.to_csv('data.csv', index=None)"
      ],
      "execution_count": 0,
      "outputs": []
    },
    {
      "cell_type": "code",
      "metadata": {
        "colab_type": "code",
        "id": "v2ZWJXVLOWPM",
        "colab": {}
      },
      "source": [
        "pd.read_csv('data.csv')"
      ],
      "execution_count": 0,
      "outputs": []
    },
    {
      "cell_type": "code",
      "metadata": {
        "colab_type": "code",
        "id": "oEhweE3jOWPP",
        "colab": {}
      },
      "source": [
        "df.to_csv('data.tsv', index=None, sep='\\t')"
      ],
      "execution_count": 0,
      "outputs": []
    },
    {
      "cell_type": "code",
      "metadata": {
        "colab_type": "code",
        "id": "U6tkWUe0OWPQ",
        "colab": {}
      },
      "source": [
        "pd.read_csv('data.tsv', sep='\\t')"
      ],
      "execution_count": 0,
      "outputs": []
    },
    {
      "cell_type": "code",
      "metadata": {
        "id": "fr3b89ZoI3Lg",
        "colab_type": "code",
        "colab": {}
      },
      "source": [
        "!pip install jieba"
      ],
      "execution_count": 0,
      "outputs": []
    },
    {
      "cell_type": "code",
      "metadata": {
        "id": "R-nJa-rpOBgV",
        "colab_type": "code",
        "colab": {}
      },
      "source": [
        "import jieba"
      ],
      "execution_count": 0,
      "outputs": []
    },
    {
      "cell_type": "code",
      "metadata": {
        "id": "wNdgBnjqPiG8",
        "colab_type": "code",
        "colab": {}
      },
      "source": [
        "def cleancut(s):\n",
        "  s = s.replace('\\t', '')\n",
        "  s = s.replace('\\n', '')\n",
        "  return list(jieba.cut(s))"
      ],
      "execution_count": 0,
      "outputs": []
    },
    {
      "cell_type": "code",
      "metadata": {
        "id": "azAh0Z4jQYb3",
        "colab_type": "code",
        "colab": {}
      },
      "source": [
        "df_list = df.copy()"
      ],
      "execution_count": 0,
      "outputs": []
    },
    {
      "cell_type": "code",
      "metadata": {
        "id": "w5HkSIyUOQoL",
        "colab_type": "code",
        "colab": {}
      },
      "source": [
        "df_list.text = df.text.apply(cleancut)"
      ],
      "execution_count": 0,
      "outputs": []
    },
    {
      "cell_type": "code",
      "metadata": {
        "id": "rW6iGQs8QbhF",
        "colab_type": "code",
        "colab": {}
      },
      "source": [
        "df_list"
      ],
      "execution_count": 0,
      "outputs": []
    },
    {
      "cell_type": "code",
      "metadata": {
        "id": "jcbmvipcQePe",
        "colab_type": "code",
        "colab": {}
      },
      "source": [
        "df_list.text.iloc[0][0]"
      ],
      "execution_count": 0,
      "outputs": []
    },
    {
      "cell_type": "code",
      "metadata": {
        "colab_type": "code",
        "id": "VloulpxgQAOY",
        "colab": {}
      },
      "source": [
        "df_list.to_csv('data_list.csv', index=None)"
      ],
      "execution_count": 0,
      "outputs": []
    },
    {
      "cell_type": "code",
      "metadata": {
        "colab_type": "code",
        "id": "gE9y8uonQAOa",
        "colab": {}
      },
      "source": [
        "pd.read_csv('data_list.csv')"
      ],
      "execution_count": 0,
      "outputs": []
    },
    {
      "cell_type": "code",
      "metadata": {
        "id": "B8uooujxQiy_",
        "colab_type": "code",
        "colab": {}
      },
      "source": [
        "pd.read_csv('data_list.csv').text.iloc[0][0]"
      ],
      "execution_count": 0,
      "outputs": []
    },
    {
      "cell_type": "code",
      "metadata": {
        "id": "pcyOMh2tQszR",
        "colab_type": "code",
        "colab": {}
      },
      "source": [
        "pd.read_csv('data_list.csv').text.iloc[0][1]"
      ],
      "execution_count": 0,
      "outputs": []
    },
    {
      "cell_type": "code",
      "metadata": {
        "colab_type": "code",
        "id": "E6OCKseZQAOe",
        "colab": {}
      },
      "source": [
        "df_list.to_csv('data_list.tsv', index=None, sep='\\t')"
      ],
      "execution_count": 0,
      "outputs": []
    },
    {
      "cell_type": "code",
      "metadata": {
        "colab_type": "code",
        "id": "x1s87jR-QAOf",
        "colab": {}
      },
      "source": [
        "pd.read_csv('data_list.tsv', sep='\\t')"
      ],
      "execution_count": 0,
      "outputs": []
    },
    {
      "cell_type": "code",
      "metadata": {
        "id": "H7ZRBmMoeZK7",
        "colab_type": "code",
        "colab": {}
      },
      "source": [
        "pd.read_csv('data_list.tsv', sep='\\t').text.iloc[0][0]"
      ],
      "execution_count": 0,
      "outputs": []
    },
    {
      "cell_type": "code",
      "metadata": {
        "id": "Lan93mdQSkjC",
        "colab_type": "code",
        "colab": {}
      },
      "source": [
        "df_list.to_pickle(\"data.pickle\")"
      ],
      "execution_count": 0,
      "outputs": []
    },
    {
      "cell_type": "code",
      "metadata": {
        "id": "hPplUcbgTHp2",
        "colab_type": "code",
        "colab": {}
      },
      "source": [
        "df_list_loaded = pd.read_pickle(\"data.pickle\")"
      ],
      "execution_count": 0,
      "outputs": []
    },
    {
      "cell_type": "code",
      "metadata": {
        "id": "GGc_QvelRI_y",
        "colab_type": "code",
        "colab": {}
      },
      "source": [
        "df_list_loaded"
      ],
      "execution_count": 0,
      "outputs": []
    },
    {
      "cell_type": "code",
      "metadata": {
        "id": "YlikRgpbRJ5b",
        "colab_type": "code",
        "colab": {}
      },
      "source": [
        "df_list_loaded.text.iloc[0][0]"
      ],
      "execution_count": 0,
      "outputs": []
    },
    {
      "cell_type": "code",
      "metadata": {
        "id": "5uF12zB6RPAH",
        "colab_type": "code",
        "colab": {}
      },
      "source": [
        "df_list.to_json(\"data.json\", orient=\"records\", lines=True)"
      ],
      "execution_count": 0,
      "outputs": []
    },
    {
      "cell_type": "code",
      "metadata": {
        "id": "q9ZiBAl-RXBZ",
        "colab_type": "code",
        "colab": {}
      },
      "source": [
        "df_list_loaded_json = pd.read_json(\"data.json\", orient=\"records\", lines=True)"
      ],
      "execution_count": 0,
      "outputs": []
    },
    {
      "cell_type": "code",
      "metadata": {
        "colab_type": "code",
        "id": "cGtsXTkAR4n5",
        "colab": {}
      },
      "source": [
        "df_list_loaded_json"
      ],
      "execution_count": 0,
      "outputs": []
    },
    {
      "cell_type": "code",
      "metadata": {
        "colab_type": "code",
        "id": "_IByX8LnR4n8",
        "colab": {}
      },
      "source": [
        "df_list_loaded_json.text.iloc[0][0]"
      ],
      "execution_count": 0,
      "outputs": []
    },
    {
      "cell_type": "code",
      "metadata": {
        "id": "alUie8ffTYMs",
        "colab_type": "code",
        "colab": {}
      },
      "source": [
        ""
      ],
      "execution_count": 0,
      "outputs": []
    }
  ]
}